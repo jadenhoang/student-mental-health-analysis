{
 "cells": [
  {
   "cell_type": "markdown",
   "id": "dbd633ea-2c0a-4bac-a6fe-0cc86896162b",
   "metadata": {},
   "source": [
    "Does going to university in a different country affect your mental health? A Japanese international university surveyed its students in 2018 and published a study the following year that was approved by several ethical and regulatory boards.\n",
    "\n",
    "The study found that international students have a higher risk of mental health difficulties than the general population, and that social connectedness (belonging to a social group) and acculturative stress (stress associated with joining a new culture) are predictive of depression.\n",
    "\n",
    "\n",
    "Explore the `students` data using PostgreSQL to find out if you would come to a similar conclusion for international students and see if the length of stay is a contributing factor.\n",
    "\n",
    "Here is a data description of the columns you may find helpful."
   ]
  },
  {
   "cell_type": "markdown",
   "id": "167d9c0e-7aba-4e44-99e3-679159e28970",
   "metadata": {},
   "source": [
    "| Field Name    | Description                                      |\n",
    "| ------------- | ------------------------------------------------ |\n",
    "| `inter_dom`     | Types of students (international or domestic)   |\n",
    "| `japanese_cate` | Japanese language proficiency                    |\n",
    "| `english_cate`  | English language proficiency                     |\n",
    "| `academic`      | Current academic level (undergraduate or graduate) |\n",
    "| `age`           | Current age of student                           |\n",
    "| `stay`          | Current length of stay in years                  |\n",
    "| `todep`         | Total score of depression (PHQ-9 test)           |\n",
    "| `tosc`          | Total score of social connectedness (SCS test)   |\n",
    "| `toas`          | Total score of acculturative stress (ASISS test) |"
   ]
  },
  {
   "cell_type": "code",
   "execution_count": 1,
   "id": "a60a4d75-634c-4965-8e01-804780e6df98",
   "metadata": {
    "customType": "sql",
    "dataFrameVariableName": "students",
    "executionCancelledAt": null,
    "executionTime": 1406,
    "lastExecutedAt": 1759442593332,
    "lastExecutedByKernel": "b51eb9b6-7332-4608-ac6b-b73b209b9bf9",
    "lastScheduledRunId": null,
    "lastSuccessfullyExecutedCode": "-- Run this code to view the data in students\nSELECT * \nFROM students;",
    "outputsMetadata": {
     "0": {
      "height": 315,
      "tableState": {},
      "type": "dataFrame"
     }
    },
    "sqlCellMode": "dataFrame",
    "sqlSource": {
     "integrationId": "89e17161-a224-4a8a-846b-0adc0fe7a4b1",
     "integrationType": "postgresql",
     "type": "integration"
    }
   },
   "outputs": [],
   "source": [
    "import pandas as pd\n",
    "import numpy as np\n",
    "import seaborn as sns\n",
    "import matplotlib.pyplot as plt\n",
    "from scipy.stats import ttest_ind\n",
    "\n",
    "# Set style for plots\n",
    "sns.set(style=\"whitegrid\")"
   ]
  },
  {
   "cell_type": "code",
   "execution_count": 2,
   "id": "ab01f727-3ae9-491a-bf8b-6d507e7dbf15",
   "metadata": {
    "customType": "sql",
    "dataFrameVariableName": "df",
    "executionCancelledAt": null,
    "executionTime": 1065,
    "lastExecutedAt": 1759442594397,
    "lastExecutedByKernel": "b51eb9b6-7332-4608-ac6b-b73b209b9bf9",
    "lastScheduledRunId": null,
    "lastSuccessfullyExecutedCode": "SELECT stay, \n\tCOUNT(*) AS count_int,\n\tROUND(AVG(todep), 2) AS average_phq,\n\tROUND(AVG(tosc), 2) AS average_scs,\n\tROUND(AVG(toas), 2) AS average_as\nFROM students\nWHERE inter_dom = 'Inter'\nGROUP BY stay\nORDER BY stay DESC;",
    "outputsMetadata": {
     "0": {
      "chartState": {
       "chartModel": {
        "cellRange": {
         "columns": [],
         "rowEndIndex": null,
         "rowEndPinned": null,
         "rowStartIndex": null,
         "rowStartPinned": null
        },
        "chartId": "id-l2pvhnyeha",
        "chartOptions": {
         "common": {
          "animation": {
           "enabled": true
          }
         }
        },
        "chartPalette": {
         "altDown": {
          "fill": "#ffa03a",
          "stroke": "#cc6f10"
         },
         "altNeutral": {
          "fill": "#b5b5b5",
          "stroke": "#575757"
         },
         "altUp": {
          "fill": "#5090dc",
          "stroke": "#2b5c95"
         },
         "down": {
          "fill": "#ef5452",
          "stroke": "#a82529"
         },
         "fills": [
          "#6568A0",
          "#43D7A4",
          "#4095DB",
          "#FACC5F",
          "#CAE279",
          "#F08083",
          "#5BCDF2",
          "#F099DC",
          "#965858",
          "#7DB64F",
          "#A98954"
         ],
         "neutral": {
          "fill": "#b5b5b5",
          "stroke": "#575757"
         },
         "strokes": [
          "#6568A0",
          "#43D7A4",
          "#4095DB",
          "#FACC5F",
          "#CAE279",
          "#F08083",
          "#5BCDF2",
          "#F099DC",
          "#965858",
          "#7DB64F",
          "#A98954"
         ],
         "up": {
          "fill": "#459d55",
          "stroke": "#1e652e"
         }
        },
        "chartThemeName": "datalabTheme",
        "chartType": "groupedColumn",
        "modelType": "range",
        "suppressChartRanges": false,
        "switchCategorySeries": false,
        "unlinkChart": false,
        "version": "32.2.2"
       },
       "rangeChartModel": {
        "rangeColumns": [],
        "switchCategorySeries": false
       }
      },
      "height": 500,
      "tableState": {},
      "type": "dataFrame"
     }
    },
    "sqlCellMode": "dataFrame",
    "sqlSource": {
     "integrationId": "89e17161-a224-4a8a-846b-0adc0fe7a4b1",
     "integrationType": "postgresql",
     "type": "integration"
    },
    "version": "ag-charts-v1",
    "visualizeDataframe": false
   },
   "outputs": [
    {
     "name": "stdout",
     "output_type": "stream",
     "text": [
      "<class 'pandas.core.frame.DataFrame'>\n",
      "RangeIndex: 286 entries, 0 to 285\n",
      "Data columns (total 50 columns):\n",
      " #   Column           Non-Null Count  Dtype  \n",
      "---  ------           --------------  -----  \n",
      " 0   inter_dom        268 non-null    object \n",
      " 1   region           268 non-null    object \n",
      " 2   gender           268 non-null    object \n",
      " 3   academic         268 non-null    object \n",
      " 4   age              268 non-null    float64\n",
      " 5   age_cate         268 non-null    float64\n",
      " 6   stay             268 non-null    float64\n",
      " 7   stay_cate        268 non-null    object \n",
      " 8   japanese         268 non-null    float64\n",
      " 9   japanese_cate    268 non-null    object \n",
      " 10  english          268 non-null    float64\n",
      " 11  english_cate     268 non-null    object \n",
      " 12  intimate         260 non-null    object \n",
      " 13  religion         268 non-null    object \n",
      " 14  suicide          268 non-null    object \n",
      " 15  dep              270 non-null    object \n",
      " 16  deptype          271 non-null    object \n",
      " 17  todep            268 non-null    float64\n",
      " 18  depsev           273 non-null    object \n",
      " 19  tosc             268 non-null    float64\n",
      " 20  apd              268 non-null    float64\n",
      " 21  ahome            268 non-null    float64\n",
      " 22  aph              268 non-null    float64\n",
      " 23  afear            268 non-null    float64\n",
      " 24  acs              268 non-null    float64\n",
      " 25  aguilt           268 non-null    float64\n",
      " 26  amiscell         268 non-null    float64\n",
      " 27  toas             268 non-null    float64\n",
      " 28  partner          268 non-null    float64\n",
      " 29  friends          268 non-null    float64\n",
      " 30  parents          268 non-null    float64\n",
      " 31  relative         268 non-null    float64\n",
      " 32  profess          268 non-null    float64\n",
      " 33   phone           268 non-null    float64\n",
      " 34  doctor           268 non-null    float64\n",
      " 35  reli             268 non-null    float64\n",
      " 36  alone            268 non-null    float64\n",
      " 37  others           268 non-null    float64\n",
      " 38  internet         242 non-null    float64\n",
      " 39  partner_bi       283 non-null    object \n",
      " 40  friends_bi       283 non-null    object \n",
      " 41  parents_bi       272 non-null    object \n",
      " 42  relative_bi      272 non-null    object \n",
      " 43  professional_bi  272 non-null    object \n",
      " 44  phone_bi         272 non-null    object \n",
      " 45  doctor_bi        272 non-null    object \n",
      " 46  religion_bi      272 non-null    object \n",
      " 47  alone_bi         272 non-null    object \n",
      " 48  others_bi        272 non-null    object \n",
      " 49  internet_bi      272 non-null    object \n",
      "dtypes: float64(26), object(24)\n",
      "memory usage: 111.8+ KB\n"
     ]
    },
    {
     "data": {
      "text/plain": [
       "inter_dom          18\n",
       "region             18\n",
       "gender             18\n",
       "academic           18\n",
       "age                18\n",
       "age_cate           18\n",
       "stay               18\n",
       "stay_cate          18\n",
       "japanese           18\n",
       "japanese_cate      18\n",
       "english            18\n",
       "english_cate       18\n",
       "intimate           26\n",
       "religion           18\n",
       "suicide            18\n",
       "dep                16\n",
       "deptype            15\n",
       "todep              18\n",
       "depsev             13\n",
       "tosc               18\n",
       "apd                18\n",
       "ahome              18\n",
       "aph                18\n",
       "afear              18\n",
       "acs                18\n",
       "aguilt             18\n",
       "amiscell           18\n",
       "toas               18\n",
       "partner            18\n",
       "friends            18\n",
       "parents            18\n",
       "relative           18\n",
       "profess            18\n",
       " phone             18\n",
       "doctor             18\n",
       "reli               18\n",
       "alone              18\n",
       "others             18\n",
       "internet           44\n",
       "partner_bi          3\n",
       "friends_bi          3\n",
       "parents_bi         14\n",
       "relative_bi        14\n",
       "professional_bi    14\n",
       "phone_bi           14\n",
       "doctor_bi          14\n",
       "religion_bi        14\n",
       "alone_bi           14\n",
       "others_bi          14\n",
       "internet_bi        14\n",
       "dtype: int64"
      ]
     },
     "execution_count": 2,
     "metadata": {},
     "output_type": "execute_result"
    }
   ],
   "source": [
    "# Load the CSV file\n",
    "df = pd.read_csv(\"students.csv\")\n",
    "\n",
    "# Preview the data\n",
    "df.head()\n",
    "\n",
    "# Check info and missing values\n",
    "df.info()\n",
    "df.isnull().sum()"
   ]
  },
  {
   "cell_type": "code",
   "execution_count": 3,
   "id": "0cf55d64-d0c7-474b-a051-9318ac97eab2",
   "metadata": {},
   "outputs": [],
   "source": [
    "# Normalize column names\n",
    "df.columns = df.columns.str.lower().str.replace(' ', '_')\n",
    "\n",
    "# Convert categorical columns\n",
    "df['inter_dom'] = df['inter_dom'].astype('category')\n",
    "df['stay'] = df['stay'].astype('category')\n",
    "\n",
    "# Fill missing numeric values safely\n",
    "df['todep'] = df['todep'].fillna(df['todep'].median())\n",
    "df['tosc']  = df['tosc'].fillna(df['tosc'].median())\n",
    "df['toas']  = df['toas'].fillna(df['toas'].median())"
   ]
  },
  {
   "cell_type": "code",
   "execution_count": 4,
   "id": "04f86353-4ee4-439c-a831-cea982b00b98",
   "metadata": {},
   "outputs": [
    {
     "data": {
      "text/html": [
       "<div>\n",
       "<style scoped>\n",
       "    .dataframe tbody tr th:only-of-type {\n",
       "        vertical-align: middle;\n",
       "    }\n",
       "\n",
       "    .dataframe tbody tr th {\n",
       "        vertical-align: top;\n",
       "    }\n",
       "\n",
       "    .dataframe thead th {\n",
       "        text-align: right;\n",
       "    }\n",
       "</style>\n",
       "<table border=\"1\" class=\"dataframe\">\n",
       "  <thead>\n",
       "    <tr style=\"text-align: right;\">\n",
       "      <th></th>\n",
       "      <th>stay</th>\n",
       "      <th>count_int</th>\n",
       "      <th>average_phq</th>\n",
       "      <th>average_scs</th>\n",
       "      <th>average_as</th>\n",
       "    </tr>\n",
       "  </thead>\n",
       "  <tbody>\n",
       "    <tr>\n",
       "      <th>0</th>\n",
       "      <td>1.0</td>\n",
       "      <td>95</td>\n",
       "      <td>7.48</td>\n",
       "      <td>38.11</td>\n",
       "      <td>72.80</td>\n",
       "    </tr>\n",
       "    <tr>\n",
       "      <th>1</th>\n",
       "      <td>2.0</td>\n",
       "      <td>39</td>\n",
       "      <td>8.28</td>\n",
       "      <td>37.08</td>\n",
       "      <td>77.67</td>\n",
       "    </tr>\n",
       "    <tr>\n",
       "      <th>2</th>\n",
       "      <td>3.0</td>\n",
       "      <td>46</td>\n",
       "      <td>9.09</td>\n",
       "      <td>37.13</td>\n",
       "      <td>78.00</td>\n",
       "    </tr>\n",
       "    <tr>\n",
       "      <th>3</th>\n",
       "      <td>4.0</td>\n",
       "      <td>14</td>\n",
       "      <td>8.57</td>\n",
       "      <td>33.93</td>\n",
       "      <td>87.71</td>\n",
       "    </tr>\n",
       "    <tr>\n",
       "      <th>4</th>\n",
       "      <td>5.0</td>\n",
       "      <td>1</td>\n",
       "      <td>0.00</td>\n",
       "      <td>34.00</td>\n",
       "      <td>91.00</td>\n",
       "    </tr>\n",
       "    <tr>\n",
       "      <th>5</th>\n",
       "      <td>6.0</td>\n",
       "      <td>3</td>\n",
       "      <td>6.00</td>\n",
       "      <td>38.00</td>\n",
       "      <td>58.67</td>\n",
       "    </tr>\n",
       "    <tr>\n",
       "      <th>6</th>\n",
       "      <td>7.0</td>\n",
       "      <td>1</td>\n",
       "      <td>4.00</td>\n",
       "      <td>48.00</td>\n",
       "      <td>45.00</td>\n",
       "    </tr>\n",
       "    <tr>\n",
       "      <th>7</th>\n",
       "      <td>8.0</td>\n",
       "      <td>1</td>\n",
       "      <td>10.00</td>\n",
       "      <td>44.00</td>\n",
       "      <td>65.00</td>\n",
       "    </tr>\n",
       "    <tr>\n",
       "      <th>8</th>\n",
       "      <td>10.0</td>\n",
       "      <td>1</td>\n",
       "      <td>13.00</td>\n",
       "      <td>32.00</td>\n",
       "      <td>50.00</td>\n",
       "    </tr>\n",
       "  </tbody>\n",
       "</table>\n",
       "</div>"
      ],
      "text/plain": [
       "   stay  count_int  average_phq  average_scs  average_as\n",
       "0   1.0         95         7.48        38.11       72.80\n",
       "1   2.0         39         8.28        37.08       77.67\n",
       "2   3.0         46         9.09        37.13       78.00\n",
       "3   4.0         14         8.57        33.93       87.71\n",
       "4   5.0          1         0.00        34.00       91.00\n",
       "5   6.0          3         6.00        38.00       58.67\n",
       "6   7.0          1         4.00        48.00       45.00\n",
       "7   8.0          1        10.00        44.00       65.00\n",
       "8  10.0          1        13.00        32.00       50.00"
      ]
     },
     "execution_count": 4,
     "metadata": {},
     "output_type": "execute_result"
    }
   ],
   "source": [
    "# Filter for inter_dom = 'Inter'\n",
    "df_inter = df[df['inter_dom'] == 'Inter']\n",
    "\n",
    "# Group by 'stay' and calculate count and averages\n",
    "summary = df_inter.groupby('stay', observed=False).agg(\n",
    "    count_int=('stay', 'count'),\n",
    "    average_phq=('todep', 'mean'),\n",
    "    average_scs=('tosc', 'mean'),\n",
    "    average_as=('toas', 'mean')\n",
    ").reset_index()\n",
    "\n",
    "# Round the averages\n",
    "summary[['average_phq','average_scs','average_as']] = summary[['average_phq','average_scs','average_as']].round(2)\n",
    "\n",
    "# Display\n",
    "summary"
   ]
  },
  {
   "cell_type": "code",
   "execution_count": 5,
   "id": "9590b338-4bc3-4720-9432-124e44b36cc4",
   "metadata": {},
   "outputs": [
    {
     "data": {
      "image/png": "[encoded data removed]",
      "text/plain": [
       "<Figure size 640x480 with 1 Axes>"
      ]
     },
     "metadata": {},
     "output_type": "display_data"
    },
    {
     "data": {
      "image/png": "[encoded data removed]",
      "text/plain": [
       "<Figure size 640x480 with 1 Axes>"
      ]
     },
     "metadata": {},
     "output_type": "display_data"
    },
    {
     "data": {
      "image/png": "[encoded data removed]",
      "text/plain": [
       "<Figure size 640x480 with 1 Axes>"
      ]
     },
     "metadata": {},
     "output_type": "display_data"
    },
    {
     "data": {
      "image/png": "[encoded data removed]",
      "text/plain": [
       "<Figure size 640x480 with 1 Axes>"
      ]
     },
     "metadata": {},
     "output_type": "display_data"
    }
   ],
   "source": [
    "# 1. Bar plot of number of students per stay\n",
    "sns.barplot(x='stay', y='count_int', data=summary)\n",
    "plt.title('Number of Students by Stay (Inter)')\n",
    "plt.show()\n",
    "\n",
    "# 2. Boxplot: PHQ scores by stay\n",
    "sns.boxplot(x='stay', y='todep', data=df_inter)\n",
    "plt.title('PHQ Scores by Stay (Inter)')\n",
    "plt.show()\n",
    "\n",
    "# 3. Boxplot: SCS scores by stay\n",
    "sns.boxplot(x='stay', y='tosc', data=df_inter)\n",
    "plt.title('SCS Scores by Stay (Inter)')\n",
    "plt.show()\n",
    "\n",
    "# 4. Boxplot: AS scores by stay\n",
    "sns.boxplot(x='stay', y='toas', data=df_inter)\n",
    "plt.title('AS Scores by Stay (Inter)')\n",
    "plt.show()"
   ]
  }
 ],
 "metadata": {
  "colab": {
   "name": "Welcome to DataCamp Workspaces.ipynb",
   "provenance": []
  },
  "kernelspec": {
   "display_name": "Python 3 (ipykernel)",
   "language": "python",
   "name": "python3"
  },
  "language_info": {
   "codemirror_mode": {
    "name": "ipython",
    "version": 3
   },
   "file_extension": ".py",
   "mimetype": "text/x-python",
   "name": "python",
   "nbconvert_exporter": "python",
   "pygments_lexer": "ipython3",
   "version": "3.12.2"
  }
 },
 "nbformat": 4,
 "nbformat_minor": 5
}
